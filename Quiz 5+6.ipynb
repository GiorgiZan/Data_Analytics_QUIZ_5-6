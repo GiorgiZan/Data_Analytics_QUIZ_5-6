{
 "cells": [
  {
   "cell_type": "markdown",
   "id": "a7641bd0-f405-4fed-a800-21ef282757cc",
   "metadata": {},
   "source": [
    "# 1) ერთ ცვლადიანი რეგრესიის მოდელი"
   ]
  },
  {
   "cell_type": "code",
   "execution_count": 2,
   "id": "91fbd2d3-2be6-430b-9068-5225ad56771f",
   "metadata": {},
   "outputs": [
    {
     "name": "stdout",
     "output_type": "stream",
     "text": [
      "Data Prediction:[14.71794394 16.2115484  20.74819743  7.66403631 17.37013877 10.61402143\n",
      " 17.2072847   9.44612512 17.46785121 15.2669948   8.58532504  9.73460946\n",
      " 18.03086098  7.37089899 13.61053628 15.03899911  7.45930549 16.31391381\n",
      " 10.62332738 18.16579721 17.79821232 10.27435438  8.88776831 18.79394862\n",
      " 10.33019006  9.60897918 17.05373658 13.60123034 11.17703121  7.51048819\n",
      " 16.41627922 10.339496   16.37440246  7.90599093 20.18053468 18.203021\n",
      "  9.36702457 19.85482655 12.57292322  8.39920611]\n",
      "Model Efficiency (MSE): 10.204654118800956\n",
      "New Data Prediction: [9.03201049]\n"
     ]
    }
   ],
   "source": [
    "import pandas as pd\n",
    "import numpy as np\n",
    "from sklearn.model_selection import train_test_split\n",
    "from sklearn.linear_model import LinearRegression\n",
    "from sklearn.metrics import mean_squared_error\n",
    "\n",
    "# მონაცემების ჩატვირთვა\n",
    "data = pd.read_csv('tvmarketing.csv')\n",
    "\n",
    "X = data[['TV']]\n",
    "y = data['Sales'] # თარგეთი \n",
    "\n",
    "# მონაცემთა სატრენინგო და სატესტოებად დაყოფა\n",
    "X_train, X_test, y_train, y_test = train_test_split(X, y, test_size=0.2, random_state=42)\n",
    "\n",
    "# რეგრესიის მოდელის შექმნა და \"გაწვრთნა\"\n",
    "model = LinearRegression()\n",
    "model.fit(X_train, y_train)\n",
    "\n",
    "# პროგნოზირება\n",
    "y_pred = model.predict(X_test)\n",
    "\n",
    "print(f'Data Prediction:{y_pred}')\n",
    "\n",
    "# მოდელის ეფექტიანობის გამოთვლა\n",
    "mse = mean_squared_error(y_test, y_pred)\n",
    "print(f'Model Efficiency (MSE): {mse}')\n",
    "\n",
    "new_data = pd.DataFrame({'TV': [41.1]})\n",
    "new_prediction = model.predict(new_data)\n",
    "print(f'New Data Prediction: {new_prediction}')\n",
    "\n"
   ]
  },
  {
   "cell_type": "markdown",
   "id": "9873384f-e581-4c5c-b161-fe9812e51ed6",
   "metadata": {},
   "source": [
    "# მრავალ ცვლადიანი რეგრესიის მოდელი"
   ]
  },
  {
   "cell_type": "code",
   "execution_count": 3,
   "id": "550ee9e5-3da7-4fde-9e0e-e61e57a7bd6a",
   "metadata": {},
   "outputs": [
    {
     "name": "stdout",
     "output_type": "stream",
     "text": [
      "Data Prediction:[ 502173.04164048  713833.96486025 1032379.66703182 ...  619803.31752397\n",
      "  555259.66357241  659188.9378178 ]\n",
      "Mean Squared Error: 74027479379.26582\n",
      "R-squared: 0.510324849150777\n",
      "New Data Prediction: [574797.50010889]\n"
     ]
    }
   ],
   "source": [
    "from sklearn.metrics import mean_squared_error, r2_score\n",
    "\n",
    "# მონაცემების ჩატვირთვა\n",
    "df = pd.read_csv('kc_house_data.csv')\n",
    "\n",
    "\n",
    "X = df[['bedrooms', 'bathrooms', 'sqft_living', 'sqft_lot', 'floors']] \n",
    "y = df['price']  # თარგეთი \n",
    "\n",
    "# მონაცემთა სატრენინგო და სატესტოებად დაყოფა\n",
    "X_train, X_test, y_train, y_test = train_test_split(X, y, test_size=0.2, random_state=42)\n",
    "\n",
    "# რეგრესიის მოდელის შექმნა\n",
    "model = LinearRegression()\n",
    "model.fit(X_train, y_train)\n",
    "\n",
    "# პროგნოზირება\n",
    "y_pred = model.predict(X_test)\n",
    "\n",
    "print(f'Data Prediction:{y_pred}')\n",
    "\n",
    "# მოდელის ეფექტიანობის გამოთვლა\n",
    "mse = mean_squared_error(y_test, y_pred)\n",
    "r2 = r2_score(y_test, y_pred)\n",
    "\n",
    "print(f'Mean Squared Error: {mse}')\n",
    "print(f'R-squared: {r2}')\n",
    "\n",
    "# ახალ მონაცემზე შედეგის შემოწმება\n",
    "new_data = pd.DataFrame({'bedrooms': [3], 'bathrooms': [2], 'sqft_living': [2120], 'sqft_lot': [5000], 'floors': [2]})\n",
    "new_prediction = model.predict(new_data)\n",
    "\n",
    "print(f'New Data Prediction: {new_prediction}')"
   ]
  },
  {
   "cell_type": "markdown",
   "id": "6255c7a0-8e76-4784-95ec-40d942c91433",
   "metadata": {},
   "source": [
    "# გადაწყვეტილების ხის რეგრესიის მოდელი"
   ]
  },
  {
   "cell_type": "code",
   "execution_count": 4,
   "id": "80eb6562-cc13-4b3f-810c-7900bf88f434",
   "metadata": {},
   "outputs": [
    {
     "name": "stdout",
     "output_type": "stream",
     "text": [
      "Decision Tree Mean Squared Error: 135804471755.27226\n",
      "Decision Tree R-squared: 0.10168391858837444\n",
      "New Data Prediction (Decision Tree): [400000.]\n"
     ]
    }
   ],
   "source": [
    "from sklearn.tree import DecisionTreeRegressor\n",
    "# მონაცემების ჩატვირთვა კვლავ\n",
    "df = pd.read_csv('kc_house_data.csv')\n",
    "\n",
    "X = df[['bedrooms', 'bathrooms', 'sqft_living', 'sqft_lot', 'floors']]\n",
    "y = df['price']\n",
    "\n",
    "# მონაცემთა სატრენინგო და სატესტოებად დაყოფა\n",
    "X_train, X_test, y_train, y_test = train_test_split(X, y, test_size=0.2, random_state=42)\n",
    "\n",
    "# გადაწყვეტილების ხის რეგრესიის მოდელის შექმნა\n",
    "tree_model = DecisionTreeRegressor(random_state=42)\n",
    "tree_model.fit(X_train, y_train)\n",
    "\n",
    "# პროგნოზირება\n",
    "y_pred_tree = tree_model.predict(X_test)\n",
    "\n",
    "# მოდელის ეფექტიანობის გამოთვლა\n",
    "mse_tree = mean_squared_error(y_test, y_pred_tree)\n",
    "r2_tree = r2_score(y_test, y_pred_tree)\n",
    "\n",
    "print(f'Decision Tree Mean Squared Error: {mse_tree}')\n",
    "print(f'Decision Tree R-squared: {r2_tree}')\n",
    "\n",
    "# ახალ მონაცემზე შედეგის შემოწმება\n",
    "new_data = pd.DataFrame({'bedrooms': [3], 'bathrooms': [2], 'sqft_living': [1111], 'sqft_lot': [4444], 'floors': [2]})\n",
    "new_prediction_tree = tree_model.predict(new_data)\n",
    "\n",
    "print(f'New Data Prediction (Decision Tree): {new_prediction_tree}')"
   ]
  },
  {
   "cell_type": "markdown",
   "id": "f276e24a-7857-4363-ade1-7f8931b555b0",
   "metadata": {},
   "source": [
    "# ლოგისტიკური რეგრესიის მოდელი."
   ]
  },
  {
   "cell_type": "code",
   "execution_count": 5,
   "id": "ac9a0600-160b-4a33-93c2-90b38e7d4b69",
   "metadata": {},
   "outputs": [
    {
     "name": "stdout",
     "output_type": "stream",
     "text": [
      "Logistic Regression Accuracy: 1.0\n",
      "Classification Report:\n",
      "                 precision    recall  f1-score   support\n",
      "\n",
      "    Iris-setosa       1.00      1.00      1.00        10\n",
      "Iris-versicolor       1.00      1.00      1.00         9\n",
      " Iris-virginica       1.00      1.00      1.00        11\n",
      "\n",
      "       accuracy                           1.00        30\n",
      "      macro avg       1.00      1.00      1.00        30\n",
      "   weighted avg       1.00      1.00      1.00        30\n",
      "\n",
      "New Data Prediction (Logistic Regression): ['Iris-versicolor']\n"
     ]
    }
   ],
   "source": [
    "from sklearn.model_selection import train_test_split\n",
    "from sklearn.linear_model import LogisticRegression\n",
    "from sklearn.metrics import accuracy_score, classification_report\n",
    "\n",
    "# მონაცემების ჩატვირთვა კვლავ\n",
    "df_classification = pd.read_csv('Iris.csv')\n",
    "\n",
    "\n",
    "X_cls = df_classification.drop(['Species', 'Id'], axis=1)  \n",
    "y_cls = df_classification['Species']  # თარგეთი\n",
    "\n",
    "# მონაცემთა სატრენინგო და სატესტოებად დაყოფა\n",
    "X_train_cls, X_test_cls, y_train_cls, y_test_cls = train_test_split(X_cls, y_cls, test_size=0.2, random_state=42)\n",
    "\n",
    "# ლოგისტიკური რეგრესიის მოდელის შექმნა\n",
    "logreg_model = LogisticRegression(max_iter=1000)\n",
    "logreg_model.fit(X_train_cls, y_train_cls)\n",
    "\n",
    "# პროგნოზირება\n",
    "y_pred_cls = logreg_model.predict(X_test_cls)\n",
    "\n",
    "# მოდელის ეფექტიანობის გამოთვლა ( მაგრა დაიზეპერა ხო იცი)\n",
    "accuracy = accuracy_score(y_test_cls, y_pred_cls)\n",
    "classification_rep = classification_report(y_test_cls, y_pred_cls)\n",
    "\n",
    "print(f'Logistic Regression Accuracy: {accuracy}')\n",
    "print(f'Classification Report:\\n{classification_rep}')\n",
    "\n",
    "# ახალ მონაცემზე შედეგის შემოწმება\n",
    "new_data = pd.DataFrame({'SepalLengthCm': [4.1], 'SepalWidthCm': [3.7], 'PetalLengthCm': [4], 'PetalWidthCm': [1.6]})\n",
    "new_prediction = logreg_model.predict(new_data)\n",
    "\n",
    "print(f'New Data Prediction (Logistic Regression): {new_prediction}')\n"
   ]
  },
  {
   "cell_type": "markdown",
   "id": "2e51b870-22e2-4284-96b1-da236f092e6a",
   "metadata": {},
   "source": [
    "# გადაწყვეტილების ხის კლასიფიკაციის მოდელი"
   ]
  },
  {
   "cell_type": "code",
   "execution_count": 9,
   "id": "3e1c2b29-6947-4d29-9e51-cef3c640f397",
   "metadata": {},
   "outputs": [
    {
     "name": "stdout",
     "output_type": "stream",
     "text": [
      "Decision Tree Accuracy: 1.0\n",
      "Classification Report:\n",
      "                 precision    recall  f1-score   support\n",
      "\n",
      "    Iris-setosa       1.00      1.00      1.00        10\n",
      "Iris-versicolor       1.00      1.00      1.00         9\n",
      " Iris-virginica       1.00      1.00      1.00        11\n",
      "\n",
      "       accuracy                           1.00        30\n",
      "      macro avg       1.00      1.00      1.00        30\n",
      "   weighted avg       1.00      1.00      1.00        30\n",
      "\n",
      "New Data Prediction (Decision Tree): ['Iris-setosa']\n"
     ]
    }
   ],
   "source": [
    "from sklearn.tree import DecisionTreeClassifier\n",
    "# მონაცემების ჩატვირთვა კვლავ\n",
    "df_classification = pd.read_csv('Iris.csv')\n",
    "\n",
    " \n",
    "X_cls = df_classification.drop(['Species', 'Id'], axis=1) \n",
    "y_cls = df_classification['Species']  # თარგეთი\n",
    "\n",
    "# მონაცემთა სატრენინგო და სატესტოებად დაყოფა\n",
    "X_train_cls, X_test_cls, y_train_cls, y_test_cls = train_test_split(X_cls, y_cls, test_size=0.2, random_state=42)\n",
    "\n",
    "# გადაწყვეტილების ხის კლასიფიკაციის მოდელის შექმნა\n",
    "tree_cls = DecisionTreeClassifier(random_state=42)\n",
    "tree_cls.fit(X_train_cls, y_train_cls)\n",
    "\n",
    "# პროგნოზირება\n",
    "y_pred_cls = tree_cls.predict(X_test_cls)\n",
    "\n",
    "# მოდელის ეფექტიანობის გამოთვლა \n",
    "accuracy = accuracy_score(y_test_cls, y_pred_cls)\n",
    "classification_rep = classification_report(y_test_cls, y_pred_cls)\n",
    "\n",
    "print(f'Decision Tree Accuracy: {accuracy}')\n",
    "print(f'Classification Report:\\n{classification_rep}')\n",
    "\n",
    "\n",
    "# ახალ მონაცემზე შედეგის შემოწმება\n",
    "new_data = pd.DataFrame({'SepalLengthCm': [4.6], 'SepalWidthCm': [3.6], 'PetalLengthCm': [1.6], 'PetalWidthCm': [0.6]})\n",
    "new_prediction = tree_cls.predict(new_data)\n",
    "\n",
    "print(f'New Data Prediction (Decision Tree): {new_prediction}')\n"
   ]
  },
  {
   "cell_type": "code",
   "execution_count": null,
   "id": "9d4f6c9a-b3d8-43aa-a451-8c9eff12e580",
   "metadata": {},
   "outputs": [],
   "source": []
  }
 ],
 "metadata": {
  "kernelspec": {
   "display_name": "Python 3 (ipykernel)",
   "language": "python",
   "name": "python3"
  },
  "language_info": {
   "codemirror_mode": {
    "name": "ipython",
    "version": 3
   },
   "file_extension": ".py",
   "mimetype": "text/x-python",
   "name": "python",
   "nbconvert_exporter": "python",
   "pygments_lexer": "ipython3",
   "version": "3.12.2"
  }
 },
 "nbformat": 4,
 "nbformat_minor": 5
}
